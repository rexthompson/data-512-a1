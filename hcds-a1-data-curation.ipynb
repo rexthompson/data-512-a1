{
 "cells": [
  {
   "cell_type": "markdown",
   "metadata": {
    "scrolled": true
   },
   "source": [
    "# English Wikipedia page views, 2008 - 2017\n",
    "\n",
    "For this assignment, your job is to analyze traffic on English Wikipedia over time, and then document your process and the resulting dataset and visualization according to best practices for open research that were outlined for you in class."
   ]
  },
  {
   "cell_type": "markdown",
   "metadata": {},
   "source": [
    "## Setup"
   ]
  },
  {
   "cell_type": "code",
   "execution_count": 1,
   "metadata": {
    "collapsed": true
   },
   "outputs": [],
   "source": [
    "import json\n",
    "import matplotlib.pyplot as plt\n",
    "import os\n",
    "import pandas as pd\n",
    "import requests\n",
    "\n",
    "%matplotlib inline\n",
    "\n",
    "headers={'User-Agent' : 'https://github.com/rexthompson', 'From' : 'rext@uw.edu'}"
   ]
  },
  {
   "cell_type": "markdown",
   "metadata": {},
   "source": [
    "## Data Ingest"
   ]
  },
  {
   "cell_type": "code",
   "execution_count": 2,
   "metadata": {
    "collapsed": true
   },
   "outputs": [],
   "source": [
    "# create a dictionary to hold API response data\n",
    "data_dict = dict()"
   ]
  },
  {
   "cell_type": "markdown",
   "metadata": {},
   "source": [
    "Note that the [Legacy Pagecounts API](https://wikitech.wikimedia.org/wiki/Analytics/AQS/Legacy_Pagecounts) has slightly different schema than the [pageview API](https://wikitech.wikimedia.org/wiki/Analytics/AQS/Pageviews) shown here."
   ]
  },
  {
   "cell_type": "markdown",
   "metadata": {},
   "source": [
    "### Pagecounts (Legacy data)"
   ]
  },
  {
   "cell_type": "code",
   "execution_count": 6,
   "metadata": {
    "collapsed": false
   },
   "outputs": [
    {
     "name": "stdout",
     "output_type": "stream",
     "text": [
      "saved JSON data to ./data/raw/pagecounts_desktop-site_200807_201709.json\n",
      "saved JSON data to ./data/raw/pagecounts_mobile-site_200807_201709.json\n"
     ]
    }
   ],
   "source": [
    "endpoint = 'https://wikimedia.org/api/rest_v1/metrics/legacy/pagecounts/aggregate/{project}/{access-site}/{granularity}/{start}/{end}'\n",
    "access_sites = ['desktop-site', 'mobile-site']\n",
    "\n",
    "for access_site in access_sites:\n",
    "    \n",
    "    # set filename for access-specific API call response JSON file\n",
    "    filename = 'data/raw/pagecounts_' + access_site + '_200807_201709.json'\n",
    "    \n",
    "    # check if file already exists; load if so, create if not\n",
    "    if os.path.isfile(filename):\n",
    "        with open(filename) as json_data:\n",
    "            response = json.load(json_data)\n",
    "        print('loaded JSON data from ./' + filename)\n",
    "    else:\n",
    "        # define parameters\n",
    "        params = {'project' : 'en.wikipedia.org',\n",
    "                  'access-site' : access_site,     # [all-sites, desktop-site, mobile-site]\n",
    "                  'granularity' : 'monthly',       # [hourly, daily, monthly]\n",
    "                  'start' : '2008010100',\n",
    "                  'end' : '2017100100' # use the first day of the following month to ensure a full month of data is collected\n",
    "                  }\n",
    "        \n",
    "        # fetch and format data\n",
    "        api_call = requests.get(endpoint.format(**params), headers)\n",
    "        response = api_call.json()\n",
    "        \n",
    "        # format and save output as JSON file\n",
    "        with open(filename, 'w') as f:\n",
    "             json.dump(response, f)\n",
    "        print('saved JSON data to ./' + filename)\n",
    "    \n",
    "    # convert to dataframe\n",
    "    temp_df = pd.DataFrame.from_dict(response['items'])\n",
    "    temp_df['yyyymm'] = temp_df.timestamp.str[0:6]\n",
    "    col_name = 'pc_' + access_site\n",
    "    temp_df.rename(columns={'count': col_name}, inplace=True)\n",
    "        \n",
    "    # save to dictionary for later combination\n",
    "    data_dict[col_name] = temp_df[['yyyymm', col_name]]"
   ]
  },
  {
   "cell_type": "markdown",
   "metadata": {},
   "source": [
    "### Pageviews (New data)"
   ]
  },
  {
   "cell_type": "code",
   "execution_count": 7,
   "metadata": {
    "collapsed": false
   },
   "outputs": [
    {
     "name": "stdout",
     "output_type": "stream",
     "text": [
      "saved JSON data to ./data/raw/pageviews_desktop_200807_201709.json\n",
      "saved JSON data to ./data/raw/pageviews_mobile-app_200807_201709.json\n",
      "saved JSON data to ./data/raw/pageviews_mobile-web_200807_201709.json\n"
     ]
    }
   ],
   "source": [
    "endpoint = 'https://wikimedia.org/api/rest_v1/metrics/pageviews/aggregate/{project}/{access}/{agent}/{granularity}/{start}/{end}'\n",
    "access_sites = ['desktop', 'mobile-app', 'mobile-web']\n",
    "\n",
    "for access_site in access_sites:\n",
    "    \n",
    "    # set filename for access-specific API call response JSON file\n",
    "    filename = 'data/raw/pageviews_' + access_site  + '_200807_201709.json'\n",
    "\n",
    "    # check if file already exists; load if so, create if not\n",
    "    if os.path.isfile(filename):\n",
    "        with open(filename) as f:\n",
    "            response = json.load(f)\n",
    "        print('loaded JSON data from ./' + filename)\n",
    "    else:\n",
    "        # define parameters\n",
    "        params = {'project' : 'en.wikipedia.org',\n",
    "                  'access' : access_site,         # [all-access, desktop, mobile-app, mobile-web]\n",
    "                  'agent' : 'user',               # [all-agents, user, spider]\n",
    "                  'granularity' : 'monthly',      # [hourly, daily, monthly]\n",
    "                  'start' : '2008010100',\n",
    "                  'end' : '2017100100' # use the first day of the following month to ensure a full month of data is collected\n",
    "                  }\n",
    "\n",
    "        # fetch and format data\n",
    "        api_call = requests.get(endpoint.format(**params), headers)\n",
    "        response = api_call.json()\n",
    "\n",
    "        # format and save output as JSON file\n",
    "        with open(filename, 'w') as f:\n",
    "             json.dump(response, f)\n",
    "        print('saved JSON data to ./' + filename)\n",
    "\n",
    "    # convert to dataframe\n",
    "    temp_df = pd.DataFrame.from_dict(response['items'])\n",
    "    temp_df['yyyymm'] = temp_df.timestamp.str[0:6]\n",
    "    col_name = 'pv_' + access_site\n",
    "    temp_df.rename(columns={'views': col_name}, inplace=True)\n",
    "        \n",
    "    # save to dictionary for later combination\n",
    "    data_dict[col_name] = temp_df[['yyyymm', col_name]]"
   ]
  },
  {
   "cell_type": "markdown",
   "metadata": {},
   "source": [
    "## Data Aggregation and Cleanup"
   ]
  },
  {
   "cell_type": "markdown",
   "metadata": {},
   "source": [
    "At this point our data consists of five separate dataframes, stored in a single data dictionary. We want to get this all into the same dataframe so we can work with it, export it, and plot it."
   ]
  },
  {
   "cell_type": "code",
   "execution_count": 12,
   "metadata": {
    "collapsed": true
   },
   "outputs": [],
   "source": [
    "keys = list(data_dict.keys())\n",
    "\n",
    "df = data_dict[keys[0]]\n",
    "for i in range(1, len(keys)):\n",
    "    df = df.merge(data_dict[keys[i]], how='outer', on='yyyymm')"
   ]
  },
  {
   "cell_type": "markdown",
   "metadata": {},
   "source": [
    "Replace NaN values with zero and convert floats to integers."
   ]
  },
  {
   "cell_type": "code",
   "execution_count": 13,
   "metadata": {
    "collapsed": true
   },
   "outputs": [],
   "source": [
    "df = df.fillna(0)\n",
    "df.iloc[:,1:] = df.iloc[:,1:].astype(int)"
   ]
  },
  {
   "cell_type": "markdown",
   "metadata": {},
   "source": [
    "Create the final dataframe that we'll export to CSV. This is the data we'll plot too."
   ]
  },
  {
   "cell_type": "code",
   "execution_count": 14,
   "metadata": {
    "collapsed": true
   },
   "outputs": [],
   "source": [
    "df_new = pd.DataFrame({'year':df['yyyymm'].str[0:4],\n",
    "                       'month':df['yyyymm'].str[4:6],\n",
    "                       'pagecount_all_views':df['pc_desktop-site'] + df['pc_mobile-site'],\n",
    "                       'pagecount_desktop_views':df['pc_desktop-site'].astype(int),\n",
    "                       'pagecount_mobile_views':df['pc_mobile-site'],\n",
    "                       'pageview_all_views':df['pv_desktop'] + df['pv_mobile-app'] + df['pv_mobile-web'],\n",
    "                       'pageview_desktop_views':df['pv_desktop'],\n",
    "                       'pageview_mobile_views':df['pv_mobile-app'] + df['pv_mobile-web']})\n",
    "\n",
    "# reorder columns\n",
    "df_new = df_new[['year',\n",
    "                 'month',\n",
    "                 'pagecount_all_views',\n",
    "                 'pagecount_desktop_views',\n",
    "                 'pagecount_mobile_views',\n",
    "                 'pageview_all_views',\n",
    "                 'pageview_desktop_views',\n",
    "                 'pageview_mobile_views']]"
   ]
  },
  {
   "cell_type": "markdown",
   "metadata": {},
   "source": [
    "Now we'll save to CSV, unless the file already exists in which case we can load for utmost transparency. We'll call this data \"prelim\" since we aren't sure yet if there are any problems with the data."
   ]
  },
  {
   "cell_type": "code",
   "execution_count": 15,
   "metadata": {
    "collapsed": false
   },
   "outputs": [
    {
     "name": "stdout",
     "output_type": "stream",
     "text": [
      "saved CSV data to ./data/en-wikipedia_traffic_200801-201709_prelim.csv\n"
     ]
    }
   ],
   "source": [
    "# set filename for combined data CSV\n",
    "filename = 'data/en-wikipedia_traffic_200801-201709_prelim.csv'\n",
    "\n",
    "# check if file already exists; load if so, create if not\n",
    "if os.path.isfile(filename):\n",
    "    df_new = pd.read_csv(filename)\n",
    "    print('loaded CSV data from ./' + filename)\n",
    "else:\n",
    "    df_new.to_csv(filename, index=False, )\n",
    "    print('saved CSV data to ./' + filename)"
   ]
  },
  {
   "cell_type": "markdown",
   "metadata": {},
   "source": [
    "## Data Visualization"
   ]
  },
  {
   "cell_type": "code",
   "execution_count": 16,
   "metadata": {
    "collapsed": true
   },
   "outputs": [],
   "source": [
    "df_new.replace(0, float('nan'), inplace=True)"
   ]
  },
  {
   "cell_type": "code",
   "execution_count": 17,
   "metadata": {
    "collapsed": false,
    "scrolled": true
   },
   "outputs": [],
   "source": [
    "yyyymm = pd.to_datetime(df_new['year'].astype(str) + df_new['month'].astype(str), format='%Y%m')"
   ]
  },
  {
   "cell_type": "code",
   "execution_count": 18,
   "metadata": {
    "collapsed": false,
    "scrolled": true
   },
   "outputs": [
    {
     "data": {
      "image/png": "[encoded data removed]",
      "text/plain": [
       "<matplotlib.figure.Figure at 0x11bc22438>"
      ]
     },
     "metadata": {},
     "output_type": "display_data"
    }
   ],
   "source": [
    "plt.rcParams[\"figure.figsize\"] = (14, 4)\n",
    "plt.plot(yyyymm, df_new['pagecount_desktop_views']/1e6, 'g--')\n",
    "plt.plot(yyyymm, df_new['pagecount_mobile_views']/1e6, 'b--')\n",
    "plt.plot(yyyymm, df_new['pagecount_all_views']/1e6, 'k--')\n",
    "plt.legend(['main site','mobile site','total'], loc=2, framealpha=1)\n",
    "plt.plot(yyyymm, df_new['pageview_desktop_views']/1e6, 'g-')\n",
    "plt.plot(yyyymm, df_new['pageview_mobile_views']/1e6, 'b-')\n",
    "plt.plot(yyyymm, df_new['pageview_all_views']/1e6, 'k-')\n",
    "plt.grid(True)\n",
    "plt.ylim((0,12000))\n",
    "plt.xlim(('2008-01-01','2017-10-01'))\n",
    "plt.title('Page Views on English Wikipedia (x 1,000,000)')\n",
    "plt.suptitle('May 2015: a new pageview definition took effect, which eliminated all crawler traffic. Solid lines mark new definition.', y=0.04, color='#b22222');"
   ]
  },
  {
   "cell_type": "markdown",
   "metadata": {},
   "source": [
    "We notice in the plot above that there appears to be some bad data in mid-2016. Let's see if we can figure out what's going on here."
   ]
  },
  {
   "cell_type": "code",
   "execution_count": 19,
   "metadata": {
    "collapsed": false,
    "scrolled": false
   },
   "outputs": [
    {
     "data": {
      "text/html": [
       "<div>\n",
       "<table border=\"1\" class=\"dataframe\">\n",
       "  <thead>\n",
       "    <tr style=\"text-align: right;\">\n",
       "      <th></th>\n",
       "      <th>year</th>\n",
       "      <th>month</th>\n",
       "      <th>pagecount_all_views</th>\n",
       "      <th>pagecount_desktop_views</th>\n",
       "      <th>pagecount_mobile_views</th>\n",
       "      <th>pageview_all_views</th>\n",
       "      <th>pageview_desktop_views</th>\n",
       "      <th>pageview_mobile_views</th>\n",
       "    </tr>\n",
       "  </thead>\n",
       "  <tbody>\n",
       "    <tr>\n",
       "      <th>96</th>\n",
       "      <td>2016</td>\n",
       "      <td>01</td>\n",
       "      <td>9.309261e+09</td>\n",
       "      <td>5.569633e+09</td>\n",
       "      <td>3.739629e+09</td>\n",
       "      <td>8.154016e+09</td>\n",
       "      <td>4.436179e+09</td>\n",
       "      <td>3.717837e+09</td>\n",
       "    </tr>\n",
       "    <tr>\n",
       "      <th>97</th>\n",
       "      <td>2016</td>\n",
       "      <td>02</td>\n",
       "      <td>8.680941e+09</td>\n",
       "      <td>5.347709e+09</td>\n",
       "      <td>3.333231e+09</td>\n",
       "      <td>7.585859e+09</td>\n",
       "      <td>4.250997e+09</td>\n",
       "      <td>3.334862e+09</td>\n",
       "    </tr>\n",
       "    <tr>\n",
       "      <th>98</th>\n",
       "      <td>2016</td>\n",
       "      <td>03</td>\n",
       "      <td>8.827530e+09</td>\n",
       "      <td>5.407676e+09</td>\n",
       "      <td>3.419854e+09</td>\n",
       "      <td>7.673275e+09</td>\n",
       "      <td>4.286590e+09</td>\n",
       "      <td>3.386684e+09</td>\n",
       "    </tr>\n",
       "    <tr>\n",
       "      <th>99</th>\n",
       "      <td>2016</td>\n",
       "      <td>04</td>\n",
       "      <td>8.873621e+09</td>\n",
       "      <td>5.572235e+09</td>\n",
       "      <td>3.301385e+09</td>\n",
       "      <td>7.408148e+09</td>\n",
       "      <td>4.149384e+09</td>\n",
       "      <td>3.258764e+09</td>\n",
       "    </tr>\n",
       "    <tr>\n",
       "      <th>100</th>\n",
       "      <td>2016</td>\n",
       "      <td>05</td>\n",
       "      <td>8.748968e+09</td>\n",
       "      <td>5.330532e+09</td>\n",
       "      <td>3.418436e+09</td>\n",
       "      <td>7.586811e+09</td>\n",
       "      <td>4.191778e+09</td>\n",
       "      <td>3.395033e+09</td>\n",
       "    </tr>\n",
       "    <tr>\n",
       "      <th>101</th>\n",
       "      <td>2016</td>\n",
       "      <td>06</td>\n",
       "      <td>8.347711e+09</td>\n",
       "      <td>4.975092e+09</td>\n",
       "      <td>3.372618e+09</td>\n",
       "      <td>7.243631e+09</td>\n",
       "      <td>3.888840e+09</td>\n",
       "      <td>3.354791e+09</td>\n",
       "    </tr>\n",
       "    <tr>\n",
       "      <th>102</th>\n",
       "      <td>2016</td>\n",
       "      <td>07</td>\n",
       "      <td>8.864628e+09</td>\n",
       "      <td>5.363966e+09</td>\n",
       "      <td>3.500661e+09</td>\n",
       "      <td>7.834440e+09</td>\n",
       "      <td>4.337866e+09</td>\n",
       "      <td>3.496574e+09</td>\n",
       "    </tr>\n",
       "    <tr>\n",
       "      <th>103</th>\n",
       "      <td>2016</td>\n",
       "      <td>08</td>\n",
       "      <td>1.393717e+09</td>\n",
       "      <td>9.136759e+08</td>\n",
       "      <td>4.800413e+08</td>\n",
       "      <td>8.210866e+09</td>\n",
       "      <td>4.695046e+09</td>\n",
       "      <td>3.515819e+09</td>\n",
       "    </tr>\n",
       "    <tr>\n",
       "      <th>104</th>\n",
       "      <td>2016</td>\n",
       "      <td>09</td>\n",
       "      <td>NaN</td>\n",
       "      <td>NaN</td>\n",
       "      <td>NaN</td>\n",
       "      <td>7.528292e+09</td>\n",
       "      <td>4.135006e+09</td>\n",
       "      <td>3.393286e+09</td>\n",
       "    </tr>\n",
       "    <tr>\n",
       "      <th>105</th>\n",
       "      <td>2016</td>\n",
       "      <td>10</td>\n",
       "      <td>NaN</td>\n",
       "      <td>NaN</td>\n",
       "      <td>NaN</td>\n",
       "      <td>7.871022e+09</td>\n",
       "      <td>4.361738e+09</td>\n",
       "      <td>3.509284e+09</td>\n",
       "    </tr>\n",
       "    <tr>\n",
       "      <th>106</th>\n",
       "      <td>2016</td>\n",
       "      <td>11</td>\n",
       "      <td>NaN</td>\n",
       "      <td>NaN</td>\n",
       "      <td>NaN</td>\n",
       "      <td>7.983113e+09</td>\n",
       "      <td>4.392068e+09</td>\n",
       "      <td>3.591045e+09</td>\n",
       "    </tr>\n",
       "    <tr>\n",
       "      <th>107</th>\n",
       "      <td>2016</td>\n",
       "      <td>12</td>\n",
       "      <td>NaN</td>\n",
       "      <td>NaN</td>\n",
       "      <td>NaN</td>\n",
       "      <td>7.986152e+09</td>\n",
       "      <td>4.209609e+09</td>\n",
       "      <td>3.776544e+09</td>\n",
       "    </tr>\n",
       "  </tbody>\n",
       "</table>\n",
       "</div>"
      ],
      "text/plain": [
       "     year month  pagecount_all_views  pagecount_desktop_views  \\\n",
       "96   2016    01         9.309261e+09             5.569633e+09   \n",
       "97   2016    02         8.680941e+09             5.347709e+09   \n",
       "98   2016    03         8.827530e+09             5.407676e+09   \n",
       "99   2016    04         8.873621e+09             5.572235e+09   \n",
       "100  2016    05         8.748968e+09             5.330532e+09   \n",
       "101  2016    06         8.347711e+09             4.975092e+09   \n",
       "102  2016    07         8.864628e+09             5.363966e+09   \n",
       "103  2016    08         1.393717e+09             9.136759e+08   \n",
       "104  2016    09                  NaN                      NaN   \n",
       "105  2016    10                  NaN                      NaN   \n",
       "106  2016    11                  NaN                      NaN   \n",
       "107  2016    12                  NaN                      NaN   \n",
       "\n",
       "     pagecount_mobile_views  pageview_all_views  pageview_desktop_views  \\\n",
       "96             3.739629e+09        8.154016e+09            4.436179e+09   \n",
       "97             3.333231e+09        7.585859e+09            4.250997e+09   \n",
       "98             3.419854e+09        7.673275e+09            4.286590e+09   \n",
       "99             3.301385e+09        7.408148e+09            4.149384e+09   \n",
       "100            3.418436e+09        7.586811e+09            4.191778e+09   \n",
       "101            3.372618e+09        7.243631e+09            3.888840e+09   \n",
       "102            3.500661e+09        7.834440e+09            4.337866e+09   \n",
       "103            4.800413e+08        8.210866e+09            4.695046e+09   \n",
       "104                     NaN        7.528292e+09            4.135006e+09   \n",
       "105                     NaN        7.871022e+09            4.361738e+09   \n",
       "106                     NaN        7.983113e+09            4.392068e+09   \n",
       "107                     NaN        7.986152e+09            4.209609e+09   \n",
       "\n",
       "     pageview_mobile_views  \n",
       "96            3.717837e+09  \n",
       "97            3.334862e+09  \n",
       "98            3.386684e+09  \n",
       "99            3.258764e+09  \n",
       "100           3.395033e+09  \n",
       "101           3.354791e+09  \n",
       "102           3.496574e+09  \n",
       "103           3.515819e+09  \n",
       "104           3.393286e+09  \n",
       "105           3.509284e+09  \n",
       "106           3.591045e+09  \n",
       "107           3.776544e+09  "
      ]
     },
     "execution_count": 19,
     "metadata": {},
     "output_type": "execute_result"
    }
   ],
   "source": [
    "df_new.loc[(pd.DatetimeIndex(yyyymm).year == 2016)]"
   ]
  },
  {
   "cell_type": "markdown",
   "metadata": {},
   "source": [
    "It looks like row 103 has lower values for the first three columns. Let's kill these."
   ]
  },
  {
   "cell_type": "code",
   "execution_count": 20,
   "metadata": {
    "collapsed": false
   },
   "outputs": [],
   "source": [
    "# update values\n",
    "df_new.loc[103,['pagecount_all_views', 'pagecount_desktop_views', 'pagecount_mobile_views']] = None"
   ]
  },
  {
   "cell_type": "markdown",
   "metadata": {},
   "source": [
    "Let's plot again to see how it looks."
   ]
  },
  {
   "cell_type": "code",
   "execution_count": 21,
   "metadata": {
    "collapsed": false
   },
   "outputs": [
    {
     "data": {
      "image/png": "[encoded data removed]",
      "text/plain": [
       "<matplotlib.figure.Figure at 0x11f086a90>"
      ]
     },
     "metadata": {},
     "output_type": "display_data"
    }
   ],
   "source": [
    "plt.rcParams[\"figure.figsize\"] = (14, 4)\n",
    "plt.plot(yyyymm, df_new['pagecount_desktop_views']/1e6, 'g--')\n",
    "plt.plot(yyyymm, df_new['pagecount_mobile_views']/1e6, 'b--')\n",
    "plt.plot(yyyymm, df_new['pagecount_all_views']/1e6, 'k--')\n",
    "plt.legend(['main site','mobile site','total'], loc=2, framealpha=1)\n",
    "plt.plot(yyyymm, df_new['pageview_desktop_views']/1e6, 'g-')\n",
    "plt.plot(yyyymm, df_new['pageview_mobile_views']/1e6, 'b-')\n",
    "plt.plot(yyyymm, df_new['pageview_all_views']/1e6, 'k-')\n",
    "plt.grid(True)\n",
    "plt.ylim((0,12000))\n",
    "plt.xlim(('2008-01-01','2017-10-01'))\n",
    "plt.title('Page Views on English Wikipedia (x 1,000,000)')\n",
    "plt.suptitle('May 2015: a new pageview definition took effect, which eliminated all crawler traffic. Solid lines mark new definition.', y=0.04, color='#b22222')\n",
    "plt.savefig('en-wikipedia_traffic_200801-201709.png', dpi=80);"
   ]
  },
  {
   "cell_type": "markdown",
   "metadata": {},
   "source": [
    "That looks better!!\n",
    "\n",
    "Now let's output the final data file which was used to make this visualization."
   ]
  },
  {
   "cell_type": "code",
   "execution_count": 22,
   "metadata": {
    "collapsed": false
   },
   "outputs": [
    {
     "name": "stdout",
     "output_type": "stream",
     "text": [
      "saved CSV data to ./data/en-wikipedia_traffic_200801-201709.csv\n"
     ]
    }
   ],
   "source": [
    "# data formatting updates\n",
    "df_new = df_new.fillna(0)\n",
    "df_new.iloc[:,1:] = df_new.iloc[:,1:].astype(int)\n",
    "\n",
    "# set filename for combined data CSV\n",
    "filename = 'data/en-wikipedia_traffic_200801-201709.csv'\n",
    "\n",
    "# check if file already exists; load if so, create if not\n",
    "if os.path.isfile(filename):\n",
    "    df_new = pd.read_csv(filename)\n",
    "    print('loaded CSV data from ./' + filename)\n",
    "else:\n",
    "    df_new.to_csv(filename, index=False, )\n",
    "    print('saved CSV data to ./' + filename)"
   ]
  },
  {
   "cell_type": "markdown",
   "metadata": {},
   "source": [
    "## Analysis"
   ]
  },
  {
   "cell_type": "markdown",
   "metadata": {},
   "source": [
    "This completes our analysis."
   ]
  },
  {
   "cell_type": "code",
   "execution_count": null,
   "metadata": {
    "collapsed": true
   },
   "outputs": [],
   "source": []
  }
 ],
 "metadata": {
  "kernelspec": {
   "display_name": "Python 3",
   "language": "python",
   "name": "python3"
  },
  "language_info": {
   "codemirror_mode": {
    "name": "ipython",
    "version": 3
   },
   "file_extension": ".py",
   "mimetype": "text/x-python",
   "name": "python",
   "nbconvert_exporter": "python",
   "pygments_lexer": "ipython3",
   "version": "3.6.0"
  }
 },
 "nbformat": 4,
 "nbformat_minor": 2
}
